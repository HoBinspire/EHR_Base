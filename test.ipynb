{
 "cells": [
  {
   "cell_type": "code",
   "execution_count": 2,
   "metadata": {},
   "outputs": [
    {
     "name": "stdout",
     "output_type": "stream",
     "text": [
      "hello.\n"
     ]
    }
   ],
   "source": [
    "print('hello.')"
   ]
  },
  {
   "cell_type": "code",
   "execution_count": 4,
   "metadata": {},
   "outputs": [
    {
     "data": {
      "text/html": [
       "<div style=\"white-space: pre-wrap; word-wrap: break-word;\">You are a medical expert with extensive knowledge in analyzing electronic health records (EHR).\n",
       "The structured temporal electronic health records (EHR) data is identified by <Visit Sequence>. It includes the patient’s multiple visits to medical facilities, capturing diagnosed diseases, laboratory test information, and medication details.\n",
       "Here are some examples for reference:\n",
       "Exmaple 1:\n",
       "<Visit Sequence>The patient is male, during the first consultation, The patient was diagnosed with various diseases such as Other multiple birth (three or more), mates all liveborn, born in hospital, delivered by cesarean section、Neonatal jaundice associated with preterm delivery、Other preterm infants, 1,500-1,749 grams、31-32 completed weeks of gestation、Other respiratory problems after birth, and in response to these diagnoses, the doctor prescribed medications such as 30 ML Sodium Chloride 234 MG/ML Injection、1000 ML glucose 100 MG/ML Injection、Potassium Chloride 2 MEQ/ML Injectable Solution、ferrous sulfate 125 MG/ML Oral Solution [Fer-Gen-Sol] for the patient's treatment,In addition, the patient underwent surgical procedures such as Enteral infusion of concentrated nutritional substances、Other phototherapy、Venous catheterization, not elsewhere classified. (Lab test data shows: Hematocrit(58.6 %) is high，Hemoglobin(18.5 g/dL) is high，Lymphocytes(75 %) is high，MCH(38.2 pg) is high，MCV(121 fL) is high).</Visit Sequence>\n",
       "<label>survived</label>\n",
       "Exmaple 2:\n",
       "<Visit Sequence>The patient is male, during the first consultation, The patient was diagnosed with various diseases such as Other multiple birth (three or more), mates all liveborn, born in hospital, delivered by cesarean section、Other preterm infants, 2,000-2,499 grams、Neonatal jaundice associated with preterm delivery、33-34 completed weeks of gestation、Transitory tachypnea of newborn、Observation for suspected infectious condition、Pilonidal cyst without mention of abscess, and in response to these diagnoses, the doctor prescribed medications such as 0、Gentamicin Sulfate (USP) 10 MG/ML Injectable Solution、ampicillin 500 MG Injection、1000 ML glucose 100 MG/ML Injection、Potassium Chloride 2 MEQ/ML Injectable Solution、30 ML Sodium Chloride 234 MG/ML Injection for the patient's treatment,In addition, the patient underwent surgical procedures such as Non-invasive mechanical ventilation、Enteral infusion of concentrated nutritional substances、Other phototherapy. (Lab test data shows: Hematocrit(60.5 %) is high，Hemoglobin(20.6 g/dL) is high，Red Blood Cells(5.72 m/uL) is high).</Visit Sequence>\n",
       "<label>survived</label>\n",
       "Exmaple 3:\n",
       "<Visit Sequence>The patient is male, during the first consultation, The patient was diagnosed with various diseases such as Other multiple birth (three or more), mates all liveborn, born in hospital, delivered by cesarean section、Other respiratory problems after birth、Neonatal jaundice associated with preterm delivery、Other preterm infants, 1,750-1,999 grams、31-32 completed weeks of gestation、Observation for suspected infectious condition、Need for prophylactic vaccination and inoculation against viral hepatitis, and in response to these diagnoses, the doctor prescribed medications such as 1000 ML glucose 100 MG/ML Injection、2 ML gentamicin 10 MG/ML Injection、ampicillin 500 MG Injection、Potassium Chloride 2 MEQ/ML Injectable Solution、30 ML Sodium Chloride 234 MG/ML Injection、0、ferrous sulfate 125 MG/ML Oral Solution [Fer-Gen-Sol]、1 ML palivizumab 100 MG/ML Injection [Synagis] for the patient's treatment,In addition, the patient underwent surgical procedures such as Other oxygen enrichment、Other phototherapy、Prophylactic administration of vaccine against other diseases. (Lab test data shows: Hematocrit(49.6 %) is high，Hemoglobin(17.8 g/dL) is high，MCH(38.8 pg) is high，Potassium(6.7 mEq/L) is high，Potassium(6.2 mEq/L) is high).</Visit Sequence>\n",
       "<label>survived</label>\n",
       "current_patient_information:\n",
       "The patient is male, during the first consultation, The patient was diagnosed with various diseases such as Other multiple birth (three or more), mates all liveborn, born in hospital, delivered by cesarean section、Other preterm infants, 1,500-1,749 grams、Interstitial emphysema and related conditions、Neonatal jaundice associated with preterm delivery、31-32 completed weeks of gestation、Other respiratory problems after birth、Observation for suspected infectious condition, and in response to these diagnoses, the doctor prescribed medications such as Gentamicin Sulfate (USP) 10 MG/ML Injectable Solution、30 ML Sodium Chloride 234 MG/ML Injection、1000 ML glucose 100 MG/ML Injection、Potassium Chloride 2 MEQ/ML Injectable Solution、ferrous sulfate 125 MG/ML Oral Solution [Fer-Gen-Sol]、00087036503、0、ampicillin 500 MG Injection for the patient's treatment,In addition, the patient underwent surgical procedures such as Non-invasive mechanical ventilation、Other phototherapy、Parenteral infusion of concentrated nutritional substances、Enteral infusion of concentrated nutritional substances. (Lab test data shows: Hematocrit(52.4 %) is high，Hemoglobin(17.8 g/dL) is high，MCH(38.5 pg) is high，MCV(114 fL) is high，Potassium(8.6 mEq/L) is high，Potassium(6.6 mEq/L) is high).\n",
       "<Question>: will the patient die within the next 14 days? Select one of the following options: A. died. B. survived.\n",
       "Important: Provide only the letter corresponding to your chosen answer. Do not include any explanation or additional text. Your answer is:</div>"
      ],
      "text/plain": [
       "<IPython.core.display.HTML object>"
      ]
     },
     "metadata": {},
     "output_type": "display_data"
    }
   ],
   "source": [
    "from IPython.display import display, HTML\n",
    "\n",
    "long_str = \"You are a medical expert with extensive knowledge in analyzing electronic health records (EHR).\\nThe structured temporal electronic health records (EHR) data is identified by <Visit Sequence>. It includes the patient’s multiple visits to medical facilities, capturing diagnosed diseases, laboratory test information, and medication details.\\nHere are some examples for reference:\\nExmaple 1:\\n<Visit Sequence>The patient is male, during the first consultation, The patient was diagnosed with various diseases such as Other multiple birth (three or more), mates all liveborn, born in hospital, delivered by cesarean section、Neonatal jaundice associated with preterm delivery、Other preterm infants, 1,500-1,749 grams、31-32 completed weeks of gestation、Other respiratory problems after birth, and in response to these diagnoses, the doctor prescribed medications such as 30 ML Sodium Chloride 234 MG/ML Injection、1000 ML glucose 100 MG/ML Injection、Potassium Chloride 2 MEQ/ML Injectable Solution、ferrous sulfate 125 MG/ML Oral Solution [Fer-Gen-Sol] for the patient's treatment,In addition, the patient underwent surgical procedures such as Enteral infusion of concentrated nutritional substances、Other phototherapy、Venous catheterization, not elsewhere classified. (Lab test data shows: Hematocrit(58.6 %) is high，Hemoglobin(18.5 g/dL) is high，Lymphocytes(75 %) is high，MCH(38.2 pg) is high，MCV(121 fL) is high).</Visit Sequence>\\n<label>survived</label>\\nExmaple 2:\\n<Visit Sequence>The patient is male, during the first consultation, The patient was diagnosed with various diseases such as Other multiple birth (three or more), mates all liveborn, born in hospital, delivered by cesarean section、Other preterm infants, 2,000-2,499 grams、Neonatal jaundice associated with preterm delivery、33-34 completed weeks of gestation、Transitory tachypnea of newborn、Observation for suspected infectious condition、Pilonidal cyst without mention of abscess, and in response to these diagnoses, the doctor prescribed medications such as 0、Gentamicin Sulfate (USP) 10 MG/ML Injectable Solution、ampicillin 500 MG Injection、1000 ML glucose 100 MG/ML Injection、Potassium Chloride 2 MEQ/ML Injectable Solution、30 ML Sodium Chloride 234 MG/ML Injection for the patient's treatment,In addition, the patient underwent surgical procedures such as Non-invasive mechanical ventilation、Enteral infusion of concentrated nutritional substances、Other phototherapy. (Lab test data shows: Hematocrit(60.5 %) is high，Hemoglobin(20.6 g/dL) is high，Red Blood Cells(5.72 m/uL) is high).</Visit Sequence>\\n<label>survived</label>\\nExmaple 3:\\n<Visit Sequence>The patient is male, during the first consultation, The patient was diagnosed with various diseases such as Other multiple birth (three or more), mates all liveborn, born in hospital, delivered by cesarean section、Other respiratory problems after birth、Neonatal jaundice associated with preterm delivery、Other preterm infants, 1,750-1,999 grams、31-32 completed weeks of gestation、Observation for suspected infectious condition、Need for prophylactic vaccination and inoculation against viral hepatitis, and in response to these diagnoses, the doctor prescribed medications such as 1000 ML glucose 100 MG/ML Injection、2 ML gentamicin 10 MG/ML Injection、ampicillin 500 MG Injection、Potassium Chloride 2 MEQ/ML Injectable Solution、30 ML Sodium Chloride 234 MG/ML Injection、0、ferrous sulfate 125 MG/ML Oral Solution [Fer-Gen-Sol]、1 ML palivizumab 100 MG/ML Injection [Synagis] for the patient's treatment,In addition, the patient underwent surgical procedures such as Other oxygen enrichment、Other phototherapy、Prophylactic administration of vaccine against other diseases. (Lab test data shows: Hematocrit(49.6 %) is high，Hemoglobin(17.8 g/dL) is high，MCH(38.8 pg) is high，Potassium(6.7 mEq/L) is high，Potassium(6.2 mEq/L) is high).</Visit Sequence>\\n<label>survived</label>\\ncurrent_patient_information:\\nThe patient is male, during the first consultation, The patient was diagnosed with various diseases such as Other multiple birth (three or more), mates all liveborn, born in hospital, delivered by cesarean section、Other preterm infants, 1,500-1,749 grams、Interstitial emphysema and related conditions、Neonatal jaundice associated with preterm delivery、31-32 completed weeks of gestation、Other respiratory problems after birth、Observation for suspected infectious condition, and in response to these diagnoses, the doctor prescribed medications such as Gentamicin Sulfate (USP) 10 MG/ML Injectable Solution、30 ML Sodium Chloride 234 MG/ML Injection、1000 ML glucose 100 MG/ML Injection、Potassium Chloride 2 MEQ/ML Injectable Solution、ferrous sulfate 125 MG/ML Oral Solution [Fer-Gen-Sol]、00087036503、0、ampicillin 500 MG Injection for the patient's treatment,In addition, the patient underwent surgical procedures such as Non-invasive mechanical ventilation、Other phototherapy、Parenteral infusion of concentrated nutritional substances、Enteral infusion of concentrated nutritional substances. (Lab test data shows: Hematocrit(52.4 %) is high，Hemoglobin(17.8 g/dL) is high，MCH(38.5 pg) is high，MCV(114 fL) is high，Potassium(8.6 mEq/L) is high，Potassium(6.6 mEq/L) is high).\\n<Question>: will the patient die within the next 14 days? Select one of the following options: A. died. B. survived.\\nImportant: Provide only the letter corresponding to your chosen answer. Do not include any explanation or additional text. Your answer is:\"\n",
    "\n",
    "display(HTML(f'<div style=\"white-space: pre-wrap; word-wrap: break-word;\">{long_str}</div>'))"
   ]
  }
 ],
 "metadata": {
  "kernelspec": {
   "display_name": "openicl0.1.8",
   "language": "python",
   "name": "python3"
  },
  "language_info": {
   "codemirror_mode": {
    "name": "ipython",
    "version": 3
   },
   "file_extension": ".py",
   "mimetype": "text/x-python",
   "name": "python",
   "nbconvert_exporter": "python",
   "pygments_lexer": "ipython3",
   "version": "3.10.16"
  }
 },
 "nbformat": 4,
 "nbformat_minor": 2
}
