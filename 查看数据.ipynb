{
 "cells": [
  {
   "cell_type": "code",
   "execution_count": 3,
   "metadata": {},
   "outputs": [
    {
     "name": "stderr",
     "output_type": "stream",
     "text": [
      "Special tokens have been added in the vocabulary, make sure the associated word embeddings are fine-tuned or trained.\n"
     ]
    },
    {
     "data": {
      "application/vnd.jupyter.widget-view+json": {
       "model_id": "2a655d7dafe74d33ac765a8c24e97093",
       "version_major": 2,
       "version_minor": 0
      },
      "text/plain": [
       "Loading checkpoint shards:   0%|          | 0/4 [00:00<?, ?it/s]"
      ]
     },
     "metadata": {},
     "output_type": "display_data"
    }
   ],
   "source": [
    "from datareader.datareader import DatasetReader\n",
    "from retriever.retriever_topk import TopkRetriever\n",
    "\n",
    "obj = DatasetReader(embed = True, embedding_model_path='/data/lhb/huggingface/model/tokenizer/Qwen2.5-7B-instruct')"
   ]
  },
  {
   "cell_type": "code",
   "execution_count": null,
   "metadata": {},
   "outputs": [
    {
     "name": "stderr",
     "output_type": "stream",
     "text": [
      "119it [02:08,  1.25s/it]"
     ]
    }
   ],
   "source": [
    "obj.embedding_with_LM()\n"
   ]
  },
  {
   "cell_type": "markdown",
   "metadata": {},
   "source": [
    "## 读取测试数据"
   ]
  },
  {
   "cell_type": "code",
   "execution_count": 3,
   "metadata": {},
   "outputs": [
    {
     "data": {
      "text/plain": [
       "{'embed': array([ 0.03450291, -0.0017248 , -0.04685855, ...,  0.01775567,\n",
       "        -0.03873008, -0.03169431], dtype=float32),\n",
       " 'id': 0,\n",
       " 'raw_text': \"The patient is Female and was diagnosed with various diseases such as Grand mal status、Pneumonitis due to inhalation of food or vomitus、Acidosis, and in response to these diagnoses, the doctor prescribed medications such as Divalproex Sodium 500 MG Enteric Coated Tablet [Depakote]、phenytoin sodium 100 MG Extended Release Oral Capsule、200 ACTUAT Albuterol 0.09 MG/ACTUAT / Ipratropium Bromide 0.018 MG/ACTUAT Metered Dose Inhaler [Combivent]、topiramate 25 MG Oral Tablet [Topamax]、Amoxicillin 875 MG / Clavulanate 125 MG Oral Tablet、0、heparin sodium, porcine 5000 UNT/ML Injectable Solution、1 ML lorazepam 2 MG/ML Cartridge、5 ML valproic acid 100 MG/ML Injection [Depacon]、folic acid 5 MG/ML Injectable Solution、50 ML sodium chloride 9 MG/ML Injection、1000 ML glucose 50 MG/ML / sodium chloride 4.5 MG/ML Injection、Phenytoin sodium 50 MG/ML Injectable Solution、100 ML sodium chloride 9 MG/ML Injection、100 ML glucose 50 MG/ML Injection、docusate sodium 10 MG/ML Oral Suspension、sennosides, USP 8.6 MG Oral Tablet、bisacodyl 10 MG Rectal Suppository、Sennosides 1.76 MG/ML Oral Solution [Senokot Child]、Metronidazole 500 MG Oral Tablet、ceftriaxone 1000 MG Injection、10 ML calcium gluconate 100 MG/ML Injection、1000 ML sodium chloride 9 MG/ML Injection、Divalproex Sodium 250 MG Enteric Coated Tablet [Depakote]、Folic Acid 1 MG Oral Tablet、pantoprazole 40 MG Delayed Release Oral Tablet [Protonix]、50 ML magnesium sulfate 40 MG/ML Injection、24 HR Potassium Chloride 20 MEQ Extended Release Tablet、Menthol 5.4 MG Lozenge [Cepacol Sore Throat from Post Nasal Drip]、phenol 14 MG/ML Mucosal Spray、Docusate Sodium 100 MG Oral Capsule [DOK]、Acetaminophen 325 MG Oral Tablet、100 ML propofol 10 MG/ML Injection [Diprivan]、Phenytoin sodium 50 MG/ML Injectable Solution、250 ML sodium chloride 9 MG/ML Injection、calcium chloride 0.0014 MEQ/ML / potassium chloride 0.004 MEQ/ML / sodium chloride 0.103 MEQ/ML / sodium lactate 0.028 MEQ/ML Injectable Solution、Potassium Chloride 1.33 MEQ/ML Oral Solution [Kay Ciel]、Propofol 10 MG/ML Injectable Suspension [Diprivan]、100 ML potassium chloride 0.1 MEQ/ML Injection、500 ML sodium chloride 9 MG/ML Injection、20 ML potassium chloride 2 MEQ/ML Injection、50 ML famotidine 0.4 MG/ML Injection for the patient's treatment,In addition, the patient underwent surgical procedures such as Insertion of endotracheal tube、Continuous invasive mechanical ventilation for less than 96 consecutive hours、Spinal tap. (Lab test data shows: Potassium(6.2 mEq/L) is high，Sodium, Urine(223 mEq/L) is high).\"}"
      ]
     },
     "execution_count": 3,
     "metadata": {},
     "output_type": "execute_result"
    }
   ],
   "source": [
    "import pickle\n",
    "\n",
    "with open('/data/lhb/test-openicl-0.1.8/EHR_Base/results/readmission_prediction/randseed42/bge_embed_test42.pkl', 'rb') as file:\n",
    "    test_embedding_ds = pickle.load(file)\n",
    "    \n",
    "test_embedding_ds[0]"
   ]
  },
  {
   "cell_type": "code",
   "execution_count": 25,
   "metadata": {},
   "outputs": [],
   "source": [
    "import numpy as np\n",
    "\n",
    "embed = test_embedding_ds[0]['embed']  # 由于 search 的参数需要是 二维的，这里增加一个维度\n",
    "embed = np.float32(embed)"
   ]
  },
  {
   "cell_type": "code",
   "execution_count": null,
   "metadata": {},
   "outputs": [],
   "source": []
  },
  {
   "cell_type": "code",
   "execution_count": 21,
   "metadata": {},
   "outputs": [],
   "source": [
    "embed = embed[0].tolist()\n",
    "embed = np.float32([embed])"
   ]
  },
  {
   "cell_type": "code",
   "execution_count": 22,
   "metadata": {},
   "outputs": [
    {
     "data": {
      "text/plain": [
       "array([[ 0.00046571, -0.00426205, -0.00105008, ...,  0.00514582,\n",
       "         0.00326655, -0.00246059]], dtype=float32)"
      ]
     },
     "execution_count": 22,
     "metadata": {},
     "output_type": "execute_result"
    }
   ],
   "source": [
    "embed"
   ]
  },
  {
   "cell_type": "code",
   "execution_count": 7,
   "metadata": {},
   "outputs": [],
   "source": [
    "import faiss\n",
    "\n",
    "train_index = faiss.read_index('/data/lhb/test-openicl-0.1.8/EHR_Base/faiss_index/faiss_index_qwen7B_train_readmission.index')"
   ]
  },
  {
   "cell_type": "code",
   "execution_count": 26,
   "metadata": {},
   "outputs": [
    {
     "data": {
      "text/plain": [
       "(array([[0.99606556, 0.9957382 , 0.99548733]], dtype=float32),\n",
       " array([[22936, 46523, 15185]]))"
      ]
     },
     "execution_count": 26,
     "metadata": {},
     "output_type": "execute_result"
    }
   ],
   "source": [
    "train_index.search(embed, 3)"
   ]
  },
  {
   "cell_type": "markdown",
   "metadata": {},
   "source": [
    "## random_idx"
   ]
  },
  {
   "cell_type": "code",
   "execution_count": null,
   "metadata": {},
   "outputs": [
    {
     "name": "stdout",
     "output_type": "stream",
     "text": [
      "[[41905, 7296, 1639], [18024, 16049, 14628], [9144, 6717, 44348], [35741, 5697, 38698], [27651, 2082, 1952], [6140, 14328, 15247], [33118, 39453, 1739], [36781, 13031, 46925], [42590, 45962, 35713], [27493, 14446, 29439], [38618, 18231, 425], [10463, 45753, 27696], [22298, 18210, 10189], [14110, 22059, 6698], [6078, 24898, 6338], [23526, 22541, 39565], [17335, 2847, 30108], [35142, 8180, 24807], [5164, 36178, 19213], [41198, 40535, 23700], [37837, 12601, 46174], [4558, 3003, 43336], [14935, 18965, 5229], [15256, 6619, 24911], [18217, 29714, 41660], [23909, 10659, 24260], [23283, 13730, 43920], [17496, 45994, 44796], [42469, 4679, 39920], [41613, 11215, 35005], [16043, 10708, 30294], [24867, 17691, 41943], [45099, 36500, 14392], [44866, 21252, 3665], [15010, 2103, 20673], [26290, 17546, 4337], [13826, 37170, 47049], [20622, 13934, 42954], [32717, 25928, 42129], [30071, 9363, 17359], [9150, 16162, 36789], [35322, 17219, 38311], [28077, 38242, 26175], [23723, 14373, 9065], [33392, 32343, 5957], [3087, 7185, 10016], [41120, 10484, 44596], [27666, 39086, 4163], [25216, 25009, 39052], [30674, 34676, 16476], [36256, 752, 44583], [7507, 44676, 35190], [17486, 42006, 22293], [7310, 19234, 28492], [10365, 29735, 212], [47164, 17261, 32806], [11708, 33271, 6973], [40979, 19558, 41874], [33270, 39909, 13035], [10016, 24504, 10587], [35348, 34757, 37], [39252, 21243, 32021], [1276, 7331, 23788], [20153, 15692, 3796], [15785, 37182, 5161], [5613, 31849, 4535], [34911, 8241, 8414], [43237, 31148, 36031], [10821, 17370, 34581], [39753, 27730, 13880], [35343, 45211, 13182], [46723, 20428, 26148], [44019, 42590, 24472], [28711, 33919, 29588], [7930, 16246, 14725], [4196, 22156, 1378], [38555, 36301, 15080], [38564, 14432, 471], [4652, 46389, 41359], [3858, 15003, 4417], [2058, 21654, 4643], [33695, 15597, 18250], [43842, 31812, 14040], [35339, 8671, 37423], [37762, 30976, 15925], [30996, 26677, 12478], [6181, 6352, 43187], [28249, 23219, 27759], [26941, 30606, 3550], [44129, 42824, 42348], [6449, 3972, 26386], [22236, 7161, 16295], [12556, 12465, 35146], [29400, 9186, 27648], [12025, 18254, 30318], [16371, 4940, 29041], [36066, 6416, 3315], [42738, 35427, 967], [6112, 15491, 10899], [26634, 31826, 31546], [14008, 26282, 3842], [10789, 24836, 141], [25586, 17380, 29819], [18694, 27722, 45651], [36422, 43376, 47081], [31894, 10144, 12445], [19445, 14267, 3832], [37957, 35533, 3994], [20552, 3746, 3286], [38284, 31246, 32954], [34807, 10317, 3727], [33281, 5250, 12178], [4490, 38996, 4453], [44250, 15414, 26461], [7856, 37334, 16135], [37940, 38962, 2604], [40591, 5372, 27474], [43081, 38251, 37042], [34261, 20733, 17089], [13386, 43891, 46936], [20590, 15642, 17407], [25938, 8577, 44019], [42303, 19660, 29964], [20720, 4754, 610], [30034, 40708, 36896], [6552, 4801, 35234], [13969, 33153, 17380], [8680, 22872, 4508], [16009, 24217, 18676], [10338, 28716, 35600], [46107, 19825, 40086], [42858, 34664, 512], [43769, 36346, 19620], [43475, 6788, 8800], [17332, 7564, 7014], [36256, 10187, 17848], [18465, 39638, 13803], [47029, 22471, 13342], [45055, 41565, 17300], [33122, 32016, 16457], [3329, 6048, 41568], [27759, 18132, 2889], [232, 21859, 8573], [41753, 17167, 10589], [28956, 36154, 46246], [28028, 36759, 633], [7331, 4931, 45286], [9768, 35755, 2361], [24196, 38175, 36210], [9705, 28166, 8352], [2741, 20202, 23897], [2614, 23449, 13767], [44699, 16353, 43708], [6736, 23178, 36692], [26632, 40675, 10128], [15514, 10649, 11603], [27020, 1624, 11754], [21770, 26982, 43903], [16263, 17485, 10433], [45958, 7084, 25070], [2537, 30847, 14577], [13079, 30166, 22915], [20000, 14915, 14609], [1550, 43255, 12656], [26113, 21512, 18258], [4549, 18292, 23012], [42040, 33384, 26193], [44532, 35141, 21702], [1808, 7559, 17118], [11702, 38049, 17397], [2507, 7104, 39096], [28479, 22654, 20557], [28599, 39728, 33516], [7578, 25244, 37787], [12457, 16693, 2908], [46450, 28577, 110], [34073, 35287, 45013], [47148, 43950, 12912], [23869, 28265, 4585], [43531, 21639, 40839], [20572, 43475, 8167], [47169, 19681, 33234], [20269, 43705, 26764], [21376, 26371, 45692], [19376, 36333, 8341], [12572, 27554, 43576], [24847, 44388, 11405], [40338, 37296, 19723], [26612, 35909, 26], [19914, 18803, 13774], [28173, 38009, 39758], [42906, 21118, 30473], [28952, 28977, 44277], [14005, 33500, 31010], [11120, 43178, 5557], [18598, 33780, 43506], [41480, 40583, 21966], [6120, 15392, 44092], [20343, 14722, 13050], [9656, 1600, 3028]]\n"
     ]
    }
   ],
   "source": [
    "import random\n",
    "random.seed(36)\n",
    "\n",
    "def generate_random_lists(num_lists):\n",
    "    \"\"\"\n",
    "    生成一个二维列表，每个元素是一个包含3个随机整数的一维列表。\n",
    "    随机整数范围是0到4000。\n",
    "\n",
    "    参数:\n",
    "        num_lists (int): 二维列表中一维列表的数量。\n",
    "\n",
    "    返回:\n",
    "        list: 生成的二维列表。\n",
    "    \"\"\"\n",
    "    result = []\n",
    "    for _ in range(num_lists):\n",
    "        # 生成一个包含3个随机整数的一维列表\n",
    "        random_list = [random.randint(0, 47179) for _ in range(3)]\n",
    "        # 将一维列表添加到二维列表中\n",
    "        result.append(random_list)\n",
    "    return result\n",
    "\n",
    "# 示例用法\n",
    "num_lists = 200  # 假设我们想要生成5个一维列表\n",
    "random_2d_list = generate_random_lists(num_lists)\n",
    "print(random_2d_list)"
   ]
  },
  {
   "cell_type": "code",
   "execution_count": 27,
   "metadata": {},
   "outputs": [],
   "source": [
    "import json\n",
    "\n",
    "with open('rand_idx.json', 'w', encoding='utf-8') as file:\n",
    "    json.dump(random_2d_list, file, ensure_ascii=False, indent=4)"
   ]
  }
 ],
 "metadata": {
  "kernelspec": {
   "display_name": "openicl0.1.8",
   "language": "python",
   "name": "python3"
  },
  "language_info": {
   "codemirror_mode": {
    "name": "ipython",
    "version": 3
   },
   "file_extension": ".py",
   "mimetype": "text/x-python",
   "name": "python",
   "nbconvert_exporter": "python",
   "pygments_lexer": "ipython3",
   "version": "3.10.16"
  }
 },
 "nbformat": 4,
 "nbformat_minor": 2
}
