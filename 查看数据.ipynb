{
 "cells": [
  {
   "cell_type": "code",
   "execution_count": 1,
   "metadata": {},
   "outputs": [
    {
     "name": "stderr",
     "output_type": "stream",
     "text": [
      "Special tokens have been added in the vocabulary, make sure the associated word embeddings are fine-tuned or trained.\n"
     ]
    },
    {
     "data": {
      "application/vnd.jupyter.widget-view+json": {
       "model_id": "fcac3dc80da84972af4ee30dfa5353fd",
       "version_major": 2,
       "version_minor": 0
      },
      "text/plain": [
       "Loading checkpoint shards:   0%|          | 0/4 [00:00<?, ?it/s]"
      ]
     },
     "metadata": {},
     "output_type": "display_data"
    }
   ],
   "source": [
    "from datareader.datareader import DatasetReader\n",
    "from retriever.retriever_topk import TopkRetriever\n",
    "\n",
    "obj = DatasetReader(embed = True, embedding_model_path='/data/lhb/huggingface/model/tokenizer/Qwen2.5-7B-instruct')"
   ]
  },
  {
   "cell_type": "code",
   "execution_count": 2,
   "metadata": {},
   "outputs": [
    {
     "name": "stderr",
     "output_type": "stream",
     "text": [
      "200it [07:30,  2.25s/it]\n"
     ]
    }
   ],
   "source": [
    "obj.embedding_with_LM()\n"
   ]
  },
  {
   "cell_type": "markdown",
   "metadata": {},
   "source": [
    "## 读取测试数据"
   ]
  },
  {
   "cell_type": "code",
   "execution_count": null,
   "metadata": {},
   "outputs": [
    {
     "data": {
      "text/plain": [
       "{'embed': array([ 0.03450291, -0.0017248 , -0.04685855, ...,  0.01775567,\n",
       "        -0.03873008, -0.03169431], dtype=float32),\n",
       " 'id': 0,\n",
       " 'raw_text': \"The patient is Female and was diagnosed with various diseases such as Grand mal status、Pneumonitis due to inhalation of food or vomitus、Acidosis, and in response to these diagnoses, the doctor prescribed medications such as Divalproex Sodium 500 MG Enteric Coated Tablet [Depakote]、phenytoin sodium 100 MG Extended Release Oral Capsule、200 ACTUAT Albuterol 0.09 MG/ACTUAT / Ipratropium Bromide 0.018 MG/ACTUAT Metered Dose Inhaler [Combivent]、topiramate 25 MG Oral Tablet [Topamax]、Amoxicillin 875 MG / Clavulanate 125 MG Oral Tablet、0、heparin sodium, porcine 5000 UNT/ML Injectable Solution、1 ML lorazepam 2 MG/ML Cartridge、5 ML valproic acid 100 MG/ML Injection [Depacon]、folic acid 5 MG/ML Injectable Solution、50 ML sodium chloride 9 MG/ML Injection、1000 ML glucose 50 MG/ML / sodium chloride 4.5 MG/ML Injection、Phenytoin sodium 50 MG/ML Injectable Solution、100 ML sodium chloride 9 MG/ML Injection、100 ML glucose 50 MG/ML Injection、docusate sodium 10 MG/ML Oral Suspension、sennosides, USP 8.6 MG Oral Tablet、bisacodyl 10 MG Rectal Suppository、Sennosides 1.76 MG/ML Oral Solution [Senokot Child]、Metronidazole 500 MG Oral Tablet、ceftriaxone 1000 MG Injection、10 ML calcium gluconate 100 MG/ML Injection、1000 ML sodium chloride 9 MG/ML Injection、Divalproex Sodium 250 MG Enteric Coated Tablet [Depakote]、Folic Acid 1 MG Oral Tablet、pantoprazole 40 MG Delayed Release Oral Tablet [Protonix]、50 ML magnesium sulfate 40 MG/ML Injection、24 HR Potassium Chloride 20 MEQ Extended Release Tablet、Menthol 5.4 MG Lozenge [Cepacol Sore Throat from Post Nasal Drip]、phenol 14 MG/ML Mucosal Spray、Docusate Sodium 100 MG Oral Capsule [DOK]、Acetaminophen 325 MG Oral Tablet、100 ML propofol 10 MG/ML Injection [Diprivan]、Phenytoin sodium 50 MG/ML Injectable Solution、250 ML sodium chloride 9 MG/ML Injection、calcium chloride 0.0014 MEQ/ML / potassium chloride 0.004 MEQ/ML / sodium chloride 0.103 MEQ/ML / sodium lactate 0.028 MEQ/ML Injectable Solution、Potassium Chloride 1.33 MEQ/ML Oral Solution [Kay Ciel]、Propofol 10 MG/ML Injectable Suspension [Diprivan]、100 ML potassium chloride 0.1 MEQ/ML Injection、500 ML sodium chloride 9 MG/ML Injection、20 ML potassium chloride 2 MEQ/ML Injection、50 ML famotidine 0.4 MG/ML Injection for the patient's treatment,In addition, the patient underwent surgical procedures such as Insertion of endotracheal tube、Continuous invasive mechanical ventilation for less than 96 consecutive hours、Spinal tap. (Lab test data shows: Potassium(6.2 mEq/L) is high，Sodium, Urine(223 mEq/L) is high).\"}"
      ]
     },
     "execution_count": 3,
     "metadata": {},
     "output_type": "execute_result"
    }
   ],
   "source": [
    "import pickle\n",
    "\n",
    "with open('/data/lhb/test-openicl-0.1.8/EHR_Base/results/readmission_prediction/randseed42/bge_embed_test42.pkl', 'rb') as file:\n",
    "    test_embedding_ds = pickle.load(file)\n",
    "    \n",
    "test_embedding_ds[0]"
   ]
  },
  {
   "cell_type": "code",
   "execution_count": 25,
   "metadata": {},
   "outputs": [],
   "source": [
    "import numpy as np\n",
    "\n",
    "embed = test_embedding_ds[0]['embed']  # 由于 search 的参数需要是 二维的，这里增加一个维度\n",
    "embed = np.float32(embed)"
   ]
  },
  {
   "cell_type": "code",
   "execution_count": null,
   "metadata": {},
   "outputs": [],
   "source": [
    "embed = embed[0].tolist()\n",
    "embed = np.float32([embed])"
   ]
  },
  {
   "cell_type": "code",
   "execution_count": 22,
   "metadata": {},
   "outputs": [
    {
     "data": {
      "text/plain": [
       "array([[ 0.00046571, -0.00426205, -0.00105008, ...,  0.00514582,\n",
       "         0.00326655, -0.00246059]], dtype=float32)"
      ]
     },
     "execution_count": 22,
     "metadata": {},
     "output_type": "execute_result"
    }
   ],
   "source": [
    "embed"
   ]
  },
  {
   "cell_type": "code",
   "execution_count": 7,
   "metadata": {},
   "outputs": [],
   "source": [
    "import faiss\n",
    "\n",
    "train_index = faiss.read_index('/data/lhb/test-openicl-0.1.8/EHR_Base/faiss_index/faiss_index_qwen7B_train_readmission.index')"
   ]
  },
  {
   "cell_type": "code",
   "execution_count": 26,
   "metadata": {},
   "outputs": [
    {
     "data": {
      "text/plain": [
       "(array([[0.99606556, 0.9957382 , 0.99548733]], dtype=float32),\n",
       " array([[22936, 46523, 15185]]))"
      ]
     },
     "execution_count": 26,
     "metadata": {},
     "output_type": "execute_result"
    }
   ],
   "source": [
    "train_index.search(embed, 3)"
   ]
  },
  {
   "cell_type": "markdown",
   "metadata": {},
   "source": [
    "## random_idx"
   ]
  },
  {
   "cell_type": "code",
   "execution_count": 5,
   "metadata": {},
   "outputs": [
    {
     "name": "stdout",
     "output_type": "stream",
     "text": [
      "[[21541, 3825, 1366], [18643, 5150, 26], [32933, 41090, 11564], [16229, 17656, 42752], [28337, 23888, 36705], [17569, 35571, 5095], [37759, 26728, 32113], [25556, 22645, 25928], [15945, 25694, 10987], [8090, 33694, 32596], [45980, 13339, 34353], [19288, 12089, 32225], [46233, 38882, 21268], [46745, 35995, 11042], [207, 38920, 25262], [32413, 9084, 14261], [27370, 24371, 13642], [32413, 16789, 40059], [2394, 15472, 41073], [33241, 30299, 42580], [33279, 19396, 29666], [5538, 15389, 19781], [13318, 37210, 10979], [11632, 4173, 15704], [24499, 28427, 46788], [35713, 1062, 40947], [24934, 22813, 32036], [11150, 35146, 36942], [16627, 5575, 6480], [42555, 29781, 13757], [14662, 45219, 23287], [9671, 9189, 11873], [35406, 41957, 5605], [31054, 18130, 18348], [19340, 171, 35406], [19668, 45284, 36689], [3908, 19585, 2237], [32616, 5240, 24596], [45013, 7695, 19662], [26954, 24616, 12193], [17746, 21189, 13138], [9042, 18494, 29567], [28140, 7005, 41186], [11459, 7314, 8266], [30442, 44737, 20350], [19919, 35945, 29499], [2096, 37506, 11234], [25179, 5195, 42685], [3539, 21413, 16015], [32509, 15900, 23384], [6364, 27764, 23749], [9328, 23621, 23448], [20155, 7264, 30534], [40705, 27578, 27325], [42157, 27422, 26188], [5953, 10244, 33492], [34681, 39967, 41371], [38067, 46035, 23279], [10859, 43757, 2021], [4906, 46887, 39684], [33881, 16434, 4687], [42139, 44159, 9574], [44449, 46445, 7581], [29295, 6403, 32216], [35207, 34804, 37715], [1314, 1338, 33453], [40985, 27717, 4202], [28016, 26597, 36950], [42901, 42717, 11183], [25574, 7127, 37654], [32495, 15415, 43501], [27182, 45865, 272], [15364, 1740, 11541], [11344, 24809, 28794], [26070, 18414, 33959], [9240, 41128, 5289], [45409, 33455, 26634], [24404, 46142, 885], [27791, 37850, 39225], [11406, 33648, 285], [43798, 20756, 21138], [8791, 33542, 45357], [45592, 12446, 7022], [32536, 5547, 24835], [15189, 5462, 19508], [9640, 1234, 14407], [10591, 20550, 19334], [22325, 25688, 17431], [33181, 550, 20147], [25848, 31820, 27874], [9934, 25130, 5613], [29382, 36663, 36404], [3844, 39244, 21369], [1832, 11764, 11063], [30006, 30329, 13935], [45318, 40487, 22228], [46776, 9551, 36208], [4111, 10084, 34921], [39525, 38672, 14230], [27166, 41345, 21554], [25995, 44838, 6517], [41443, 24596, 22478], [11753, 28172, 16959], [36649, 7149, 29301], [16600, 20033, 34490], [43159, 42555, 24294], [43643, 8071, 24332], [43791, 2734, 45446], [37218, 37728, 4724], [5341, 13096, 43574], [37128, 31915, 31172], [22356, 22953, 7087], [32774, 18448, 19108], [44895, 23498, 23936], [42921, 14441, 3629], [28910, 44117, 3377], [47165, 32660, 12199], [10764, 7973, 26946], [16298, 30711, 7834], [31043, 43725, 31984], [8939, 47103, 41303], [33045, 33599, 40814], [18840, 43557, 2737], [15566, 1394, 22761], [16409, 249, 38803], [13276, 26505, 24518], [20211, 43401, 7254], [4332, 19484, 5586], [25536, 31184, 16724], [14943, 32009, 57], [40422, 17524, 8466], [6916, 16218, 32782], [39540, 46739, 7471], [37879, 10539, 463], [31607, 43087, 25610], [40444, 39858, 22488], [17980, 22481, 24148], [7641, 22958, 10262], [1663, 38280, 34021], [15609, 1435, 2191], [46542, 9236, 20866], [662, 907, 1448], [36613, 42134, 26722], [12743, 29634, 11697], [8758, 9535, 42880], [8127, 32555, 32518], [2016, 45862, 12506], [43711, 947, 34615], [4619, 23627, 29461], [18095, 43943, 16716], [44261, 38960, 31279], [21343, 13559, 30542], [14361, 24048, 12323], [23107, 44900, 5426], [11046, 45613, 22198], [23021, 23516, 37429], [8002, 35012, 38633], [15030, 1901, 12844], [17139, 34263, 28206], [40384, 39932, 30611], [23978, 22630, 28666], [42520, 23102, 5231], [34401, 35469, 10465], [14513, 26795, 19611], [44560, 33950, 41667], [31714, 16389, 36245], [35411, 13238, 8295], [22720, 32436, 3075], [388, 25267, 14575], [36933, 42233, 6594], [11658, 35773, 7098], [30991, 46961, 24530], [23493, 46224, 26532], [29119, 14462, 5474], [45074, 29254, 5831], [2845, 33650, 17431], [27816, 34004, 14748], [21870, 40664, 19556], [15028, 37381, 32794], [45073, 9429, 34413], [26910, 16228, 45836], [46025, 31274, 39813], [40742, 28742, 27725], [512, 25418, 24387], [3696, 27078, 13716], [8210, 31291, 31815], [31079, 46503, 25914], [33969, 4903, 21588], [19944, 22440, 33794], [861, 12826, 14064], [11267, 3580, 30707], [25958, 38046, 40485], [28614, 4913, 3996], [36470, 28396, 42187], [15309, 37312, 8418], [42340, 42032, 20155], [22201, 44905, 33114], [42532, 36224, 14527], [4954, 17049, 10572], [34660, 14873, 7078]]\n"
     ]
    }
   ],
   "source": [
    "import random\n",
    "random.seed(36)\n",
    "\n",
    "def generate_random_lists(num_lists):\n",
    "    \"\"\"\n",
    "    生成一个二维列表，每个元素是一个包含3个随机整数的一维列表。\n",
    "    随机整数范围是0到4000。\n",
    "\n",
    "    参数:\n",
    "        num_lists (int): 二维列表中一维列表的数量。\n",
    "\n",
    "    返回:\n",
    "        list: 生成的二维列表。\n",
    "    \"\"\"\n",
    "    result = []\n",
    "    for _ in range(num_lists):\n",
    "        # 生成一个包含3个随机整数的一维列表\n",
    "        random_list = [random.randint(0, 47179) for _ in range(3)]\n",
    "        # 将一维列表添加到二维列表中\n",
    "        result.append(random_list)\n",
    "    return result\n",
    "\n",
    "# 示例用法\n",
    "num_lists = 200  # 假设我们想要生成5个一维列表\n",
    "random_2d_list = generate_random_lists(num_lists)\n",
    "print(random_2d_list)"
   ]
  },
  {
   "cell_type": "code",
   "execution_count": null,
   "metadata": {},
   "outputs": [],
   "source": [
    "import json\n",
    "\n",
    "with open('rand_idx.json', 'w', encoding='utf-8') as file:\n",
    "    json.dump(random_2d_list, file, ensure_ascii=False, indent=4)"
   ]
  },
  {
   "cell_type": "code",
   "execution_count": 9,
   "metadata": {},
   "outputs": [],
   "source": [
    "\"\"\"\n",
    "    进行 case study, 读取 idx\n",
    "\"\"\"\n",
    "\n",
    "import json\n",
    "\n",
    "with open('/data/lhb/test-openicl-0.1.8/EHR_Base/results/mortality_prediction/test_ds[:200]/topk/bge_embed/topk_ice_idx.json', 'r', encoding='utf-8') as file:\n",
    "    bge_idx = json.load(file)\n",
    "\n",
    "with open('/data/lhb/test-openicl-0.1.8/EHR_Base/results/mortality_prediction/test_ds[:200]/topk/qwen7B_embed/top3_qwenEmbed_ice_idx.json', 'r', encoding='utf-8') as file:\n",
    "    qwen_idx = json.load(file)"
   ]
  },
  {
   "cell_type": "code",
   "execution_count": 4,
   "metadata": {},
   "outputs": [],
   "source": [
    "\"\"\"\n",
    "    进行 case study, 读取 label\n",
    "\"\"\"\n",
    "\n",
    "import json\n",
    "\n",
    "with open('/data/lhb/test-openicl-0.1.8/EHR_Base/results/mortality_prediction/test_ds[:200]/topk/bge_embed/topk_res_deepseek_r1.json', 'r', encoding='utf-8') as file:\n",
    "    bge_label = json.load(file)\n",
    "\n",
    "with open('/data/lhb/test-openicl-0.1.8/EHR_Base/results/mortality_prediction/test_ds[:200]/topk/qwen7B_embed/top3_res_qwenEmbed_deepseek_r1.json', 'r', encoding='utf-8') as file:\n",
    "    qwen_label = json.load(file)"
   ]
  },
  {
   "cell_type": "code",
   "execution_count": 17,
   "metadata": {},
   "outputs": [
    {
     "data": {
      "text/plain": [
       "({'id': 131,\n",
       "  'logits': [1.769980788230896, 23.134546279907227],\n",
       "  'prediction': [0.07107064444099966, 0.9289293555590004],\n",
       "  'label': 'died',\n",
       "  'prediction_softmax': [5.266078684229569e-10, 1.0]},\n",
       " {'id': 131,\n",
       "  'logits': [24.925935745239258, 15.259057998657227],\n",
       "  'prediction_softmax': [0.9999366998672485, 6.334332283586264e-05],\n",
       "  'label': 'died'})"
      ]
     },
     "execution_count": 17,
     "metadata": {},
     "output_type": "execute_result"
    }
   ],
   "source": [
    "bge_label[131], qwen_label[130]"
   ]
  },
  {
   "cell_type": "code",
   "execution_count": 18,
   "metadata": {},
   "outputs": [
    {
     "data": {
      "text/plain": [
       "([16839, 28337, 31039], [31039, 12644, 15648])"
      ]
     },
     "execution_count": 18,
     "metadata": {},
     "output_type": "execute_result"
    }
   ],
   "source": [
    "bge_idx[131], qwen_idx[131]"
   ]
  },
  {
   "cell_type": "code",
   "execution_count": 16,
   "metadata": {},
   "outputs": [
    {
     "name": "stdout",
     "output_type": "stream",
     "text": [
      "87\n",
      "92\n",
      "130\n",
      "131\n",
      "142\n",
      "150\n",
      "151\n",
      "161\n",
      "176\n",
      "189\n",
      "190\n",
      "196\n"
     ]
    }
   ],
   "source": [
    "for bge, qwen in zip(bge_label[80:], qwen_label[79:]): # 寻找 qwen deepseekr1 作对的，bge 做错的 case\n",
    "    if bge['logits'][0] < bge['logits'][1] and qwen['logits'][0] > qwen['logits'][1] and qwen['label'] == 'died':  # 80, \n",
    "    # if bge['logits'][0] > bge['logits'][1] and qwen['logits'][0] < qwen['logits'][1] and qwen['label'] == 'survived':  # 无\n",
    "        print(bge['id'])"
   ]
  },
  {
   "cell_type": "code",
   "execution_count": 14,
   "metadata": {},
   "outputs": [
    {
     "data": {
      "text/plain": [
       "100"
      ]
     },
     "execution_count": 14,
     "metadata": {},
     "output_type": "execute_result"
    }
   ],
   "source": [
    "with open('/data/lhb/test-openicl-0.1.8/EHR_Base/cone3_qwen_idx.json', 'r', encoding='utf-8') as file:\n",
    "    bge_idx = json.load(file)\n",
    "\n",
    "len(bge_idx)"
   ]
  }
 ],
 "metadata": {
  "kernelspec": {
   "display_name": "openicl0.1.8",
   "language": "python",
   "name": "python3"
  },
  "language_info": {
   "codemirror_mode": {
    "name": "ipython",
    "version": 3
   },
   "file_extension": ".py",
   "mimetype": "text/x-python",
   "name": "python",
   "nbconvert_exporter": "python",
   "pygments_lexer": "ipython3",
   "version": "3.10.16"
  }
 },
 "nbformat": 4,
 "nbformat_minor": 2
}
